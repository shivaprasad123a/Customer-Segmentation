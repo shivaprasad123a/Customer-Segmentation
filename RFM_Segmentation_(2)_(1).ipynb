{
  "cells": [
    {
      "cell_type": "code",
      "execution_count": null,
      "metadata": {
        "colab": {
          "base_uri": "https://localhost:8080/"
        },
        "id": "lFJglyQwD-uP",
        "outputId": "b1fba8e6-481d-490c-888e-a2b3faf3eddd"
      },
      "outputs": [
        {
          "output_type": "stream",
          "name": "stdout",
          "text": [
            "Requirement already satisfied: pandas in /usr/local/lib/python3.10/dist-packages (1.5.3)\n",
            "Requirement already satisfied: matplotlib in /usr/local/lib/python3.10/dist-packages (3.7.1)\n",
            "Requirement already satisfied: numpy in /usr/local/lib/python3.10/dist-packages (1.23.5)\n",
            "Requirement already satisfied: seaborn in /usr/local/lib/python3.10/dist-packages (0.12.2)\n",
            "Requirement already satisfied: scipy in /usr/local/lib/python3.10/dist-packages (1.11.3)\n",
            "Requirement already satisfied: python-dateutil>=2.8.1 in /usr/local/lib/python3.10/dist-packages (from pandas) (2.8.2)\n",
            "Requirement already satisfied: pytz>=2020.1 in /usr/local/lib/python3.10/dist-packages (from pandas) (2023.3.post1)\n",
            "Requirement already satisfied: contourpy>=1.0.1 in /usr/local/lib/python3.10/dist-packages (from matplotlib) (1.2.0)\n",
            "Requirement already satisfied: cycler>=0.10 in /usr/local/lib/python3.10/dist-packages (from matplotlib) (0.12.1)\n",
            "Requirement already satisfied: fonttools>=4.22.0 in /usr/local/lib/python3.10/dist-packages (from matplotlib) (4.44.0)\n",
            "Requirement already satisfied: kiwisolver>=1.0.1 in /usr/local/lib/python3.10/dist-packages (from matplotlib) (1.4.5)\n",
            "Requirement already satisfied: packaging>=20.0 in /usr/local/lib/python3.10/dist-packages (from matplotlib) (23.2)\n",
            "Requirement already satisfied: pillow>=6.2.0 in /usr/local/lib/python3.10/dist-packages (from matplotlib) (9.4.0)\n",
            "Requirement already satisfied: pyparsing>=2.3.1 in /usr/local/lib/python3.10/dist-packages (from matplotlib) (3.1.1)\n",
            "Requirement already satisfied: six>=1.5 in /usr/local/lib/python3.10/dist-packages (from python-dateutil>=2.8.1->pandas) (1.16.0)\n",
            "Requirement already satisfied: scikit-learn in /usr/local/lib/python3.10/dist-packages (1.2.2)\n",
            "Requirement already satisfied: numpy>=1.17.3 in /usr/local/lib/python3.10/dist-packages (from scikit-learn) (1.23.5)\n",
            "Requirement already satisfied: scipy>=1.3.2 in /usr/local/lib/python3.10/dist-packages (from scikit-learn) (1.11.3)\n",
            "Requirement already satisfied: joblib>=1.1.1 in /usr/local/lib/python3.10/dist-packages (from scikit-learn) (1.3.2)\n",
            "Requirement already satisfied: threadpoolctl>=2.0.0 in /usr/local/lib/python3.10/dist-packages (from scikit-learn) (3.2.0)\n",
            "Collecting scikeras\n",
            "  Downloading scikeras-0.12.0-py3-none-any.whl (27 kB)\n",
            "Requirement already satisfied: packaging>=0.21 in /usr/local/lib/python3.10/dist-packages (from scikeras) (23.2)\n",
            "Requirement already satisfied: scikit-learn>=1.0.0 in /usr/local/lib/python3.10/dist-packages (from scikeras) (1.2.2)\n",
            "Requirement already satisfied: numpy>=1.17.3 in /usr/local/lib/python3.10/dist-packages (from scikit-learn>=1.0.0->scikeras) (1.23.5)\n",
            "Requirement already satisfied: scipy>=1.3.2 in /usr/local/lib/python3.10/dist-packages (from scikit-learn>=1.0.0->scikeras) (1.11.3)\n",
            "Requirement already satisfied: joblib>=1.1.1 in /usr/local/lib/python3.10/dist-packages (from scikit-learn>=1.0.0->scikeras) (1.3.2)\n",
            "Requirement already satisfied: threadpoolctl>=2.0.0 in /usr/local/lib/python3.10/dist-packages (from scikit-learn>=1.0.0->scikeras) (3.2.0)\n",
            "Installing collected packages: scikeras\n",
            "Successfully installed scikeras-0.12.0\n"
          ]
        }
      ],
      "source": [
        "%pip install pandas matplotlib numpy seaborn scipy\n",
        "%pip install scikit-learn\n",
        "%pip install scikeras"
      ]
    },
    {
      "cell_type": "code",
      "execution_count": null,
      "metadata": {
        "id": "HR-OS7L9D-uS"
      },
      "outputs": [],
      "source": [
        "# Importing essential libraries\n",
        "import pandas as pd\n",
        "import matplotlib.pyplot as plt\n",
        "import numpy as np\n",
        "from matplotlib import pylab\n",
        "import sklearn\n",
        "from sklearn.preprocessing import StandardScaler\n",
        "from sklearn.cluster import KMeans\n",
        "from sklearn.metrics import silhouette_score\n",
        "import datetime as dt\n",
        "from scipy.spatial.distance import cdist\n",
        "from sklearn.ensemble import GradientBoostingRegressor, RandomForestRegressor, AdaBoostRegressor, ExtraTreesRegressor, HistGradientBoostingRegressor\n",
        "from sklearn.model_selection import train_test_split\n",
        "from sklearn.model_selection import KFold\n",
        "from sklearn.model_selection import cross_val_score\n",
        "from statistics import median\n",
        "from os.path import isfile\n",
        "from sklearn.linear_model import LinearRegression\n",
        "from scikeras.wrappers import KerasRegressor\n",
        "from sklearn.preprocessing import StandardScaler\n",
        "from sklearn.pipeline import Pipeline\n",
        "from tensorflow.keras.models import Sequential\n",
        "from tensorflow.keras.layers import Dense\n",
        "from tensorflow.keras.utils import plot_model"
      ]
    },
    {
      "cell_type": "code",
      "execution_count": null,
      "metadata": {
        "colab": {
          "base_uri": "https://localhost:8080/"
        },
        "id": "LCM1wkicD-uV",
        "outputId": "3acc22f5-42bc-4451-d6a1-85dcefa7a0bc"
      },
      "outputs": [
        {
          "output_type": "stream",
          "name": "stdout",
          "text": [
            "Downloading dataset\n"
          ]
        },
        {
          "output_type": "execute_result",
          "data": {
            "text/plain": [
              "<bound method NDFrame.head of        InvoiceNo StockCode                          Description  Quantity  \\\n",
              "0         536365    85123A   WHITE HANGING HEART T-LIGHT HOLDER         6   \n",
              "1         536365     71053                  WHITE METAL LANTERN         6   \n",
              "2         536365    84406B       CREAM CUPID HEARTS COAT HANGER         8   \n",
              "3         536365    84029G  KNITTED UNION FLAG HOT WATER BOTTLE         6   \n",
              "4         536365    84029E       RED WOOLLY HOTTIE WHITE HEART.         6   \n",
              "...          ...       ...                                  ...       ...   \n",
              "541904    581587     22613          PACK OF 20 SPACEBOY NAPKINS        12   \n",
              "541905    581587     22899         CHILDREN'S APRON DOLLY GIRL          6   \n",
              "541906    581587     23254        CHILDRENS CUTLERY DOLLY GIRL          4   \n",
              "541907    581587     23255      CHILDRENS CUTLERY CIRCUS PARADE         4   \n",
              "541908    581587     22138        BAKING SET 9 PIECE RETROSPOT          3   \n",
              "\n",
              "               InvoiceDate  UnitPrice  CustomerID         Country  \n",
              "0      2010-12-01 08:26:00       2.55     17850.0  United Kingdom  \n",
              "1      2010-12-01 08:26:00       3.39     17850.0  United Kingdom  \n",
              "2      2010-12-01 08:26:00       2.75     17850.0  United Kingdom  \n",
              "3      2010-12-01 08:26:00       3.39     17850.0  United Kingdom  \n",
              "4      2010-12-01 08:26:00       3.39     17850.0  United Kingdom  \n",
              "...                    ...        ...         ...             ...  \n",
              "541904 2011-12-09 12:50:00       0.85     12680.0          France  \n",
              "541905 2011-12-09 12:50:00       2.10     12680.0          France  \n",
              "541906 2011-12-09 12:50:00       4.15     12680.0          France  \n",
              "541907 2011-12-09 12:50:00       4.15     12680.0          France  \n",
              "541908 2011-12-09 12:50:00       4.95     12680.0          France  \n",
              "\n",
              "[541909 rows x 8 columns]>"
            ]
          },
          "metadata": {},
          "execution_count": 5
        }
      ],
      "source": [
        "###############################################################################\n",
        "# Loading dataset\n",
        "if isfile('Online%20Retail.xlsx'):\n",
        "    print(\"Loading dataset\")\n",
        "    retail_data = pd.read_excel('Online%20Retail.xlsx')\n",
        "else:\n",
        "    print(\"Downloading dataset\")\n",
        "    url = 'https://archive.ics.uci.edu/ml/machine-learning-databases/00352/Online%20Retail.xlsx'\n",
        "    retail_data = pd.read_excel(url)\n",
        "\n",
        "retail_data.head"
      ]
    },
    {
      "cell_type": "code",
      "execution_count": null,
      "metadata": {
        "id": "-EbYHFmSD-uX"
      },
      "outputs": [],
      "source": [
        "###############################################################################\n",
        "# preparing dataset\n",
        "\n",
        "# RFM rating 1..5: from 111 to 555 (worst=111 to best=555)\n",
        "levels = 5\n",
        "\n",
        "#Delete rows with missing CustomerID\n",
        "retail_data = retail_data.drop(retail_data[retail_data.CustomerID.isnull()].index).reset_index(drop=True) #Changing the datatype of Customer Id into int\n",
        "retail_data['CustomerID'] = pd.to_numeric(retail_data['CustomerID'], downcast = 'integer') #Delete orders where Unit Price is 0\n",
        "retail_data = retail_data.drop(retail_data[retail_data.UnitPrice==0].index).reset_index(drop=True) #Create a new column for total price\n",
        "retail_data['TotalPrice'] = retail_data.Quantity*retail_data.UnitPrice\n",
        "retail_data['InvoiceDate'] = pd.to_datetime(retail_data['InvoiceDate'])"
      ]
    },
    {
      "cell_type": "code",
      "execution_count": null,
      "metadata": {
        "colab": {
          "base_uri": "https://localhost:8080/"
        },
        "id": "JRoNQs2BD-uY",
        "outputId": "4ff1ee40-25be-4c28-c7a3-796dcaa612fd"
      },
      "outputs": [
        {
          "output_type": "stream",
          "name": "stdout",
          "text": [
            "We have 121 different RFM rankings (from a max of 125 )\n"
          ]
        }
      ],
      "source": [
        "###############################################################################\n",
        "# RFM\n",
        "cutOffDate = retail_data['InvoiceDate'].max()   # or dt.datetime(y,m,d)\n",
        "rfm = retail_data.groupby('CustomerID').agg({'InvoiceDate': lambda x: (cutOffDate - x.max()).days,\n",
        "                                             'InvoiceNo': 'count',\n",
        "                                             'TotalPrice': 'sum'}).reset_index()\n",
        "rfm.columns = ['CustomerID', 'Recency', 'Frequency', 'MonetaryValue']\n",
        "\n",
        "###############################################################################\n",
        "# RFM rankings. Assuming levels=5\n",
        "# good customers are 555\n",
        "# bad customers are 111\n",
        "# potentially 5x5x5=125 combinations\n",
        "rfm['r_percentile'] = rfm['Recency'].rank(pct=True,ascending=False) # the more recent the better\n",
        "rfm['r_score'] = pd.qcut(rfm['r_percentile'], levels, labels=range(1, levels+1))\n",
        "\n",
        "rfm['f_percentile'] = rfm['Frequency'].rank(pct=True,ascending=True) # the more purchases the better\n",
        "rfm['f_score'] = pd.qcut(rfm['f_percentile'], levels, labels=range(1, levels+1))\n",
        "\n",
        "rfm['m_percentile'] = rfm['MonetaryValue'].rank(pct=True,ascending=True) # the more spent the better\n",
        "rfm['m_score'] = pd.qcut(rfm['m_percentile'], levels, labels=range(1, levels+1))\n",
        "\n",
        "#rfm_scores = rfm[['CustomerID', 'r_score', 'f_score', 'm_score']]\n",
        "rfm['score'] = rfm['r_score'].astype(str) + rfm['f_score'].astype(str) + rfm['m_score'].astype(str)\n",
        "print('We have', len(rfm.score.unique()), 'different RFM rankings (from a max of', levels*levels*levels,')')\n",
        "\n",
        "# weighted RFM score (typical weights)\n",
        "rfm.r_score = pd.to_numeric(rfm.r_score)\n",
        "rfm.f_score = pd.to_numeric(rfm.f_score)\n",
        "rfm.m_score = pd.to_numeric(rfm.m_score)\n",
        "rfm['rfm_score'] = 0.15*rfm.r_score + 0.28*rfm.f_score + 0.57*rfm.m_score"
      ]
    },
    {
      "cell_type": "code",
      "execution_count": null,
      "metadata": {
        "colab": {
          "base_uri": "https://localhost:8080/",
          "height": 472
        },
        "id": "Wvs8wzWGD-uZ",
        "outputId": "ef3b84c1-0fca-4993-b508-3c81b25ee7e8"
      },
      "outputs": [
        {
          "output_type": "display_data",
          "data": {
            "text/plain": [
              "<Figure size 640x480 with 1 Axes>"
            ],
            "image/png": "[encoded data removed]"
          },
          "metadata": {}
        }
      ],
      "source": [
        "###############################################################################\n",
        "# RFM often produces over segmentation (here 121 combinations). It's too many!\n",
        "# Can we reduce it to a more manageable number?\n",
        "# Let's see what kNN finds. Target a \"small\" number of clusters\n",
        "\n",
        "inertias = []\n",
        "mapping = {}\n",
        "X = rfm[['r_score', 'f_score', 'm_score', 'rfm_score']]     # dataset for clustering\n",
        "K = range(2, 40)\n",
        "\n",
        "for k in K:\n",
        "    # Building and fitting the model\n",
        "    kmeanModel = KMeans(n_clusters=k, n_init='auto', init='k-means++').fit(X)\n",
        "    kmeanModel.fit(X)\n",
        "    inertias.append(kmeanModel.inertia_)\n",
        "    mapping[k] = kmeanModel.inertia_\n",
        "\n",
        "plt.plot(K, inertias, 'bx-')\n",
        "plt.xlabel('Values of k in k-Means')\n",
        "plt.ylabel('Inertia')\n",
        "plt.title('The Elbow Method using Inertia')\n",
        "plt.show()"
      ]
    },
    {
      "cell_type": "code",
      "execution_count": null,
      "metadata": {
        "colab": {
          "base_uri": "https://localhost:8080/"
        },
        "id": "ne8AC3LRD-ub",
        "outputId": "a01f944c-115d-4e58-e74b-4d9b75691e3b"
      },
      "outputs": [
        {
          "output_type": "stream",
          "name": "stdout",
          "text": [
            "X =    r_score  f_score  m_score  rfm_score  cluster\n",
            "0        1        1        1       1.00        6\n",
            "1        5        5        5       5.00        8\n",
            "2        2        3        4       3.42       11\n",
            "3        4        4        4       4.00        5\n",
            "4        1        2        2       1.85        4\n",
            "y = 0       0.00\n",
            "1    4310.00\n",
            "2    1797.24\n",
            "3    1757.55\n",
            "4     334.40\n",
            "Name: MonetaryValue, dtype: float64\n"
          ]
        },
        {
          "output_type": "stream",
          "name": "stderr",
          "text": [
            "<ipython-input-9-4c7998f09e70>:9: SettingWithCopyWarning: \n",
            "A value is trying to be set on a copy of a slice from a DataFrame.\n",
            "Try using .loc[row_indexer,col_indexer] = value instead\n",
            "\n",
            "See the caveats in the documentation: https://pandas.pydata.org/pandas-docs/stable/user_guide/indexing.html#returning-a-view-versus-a-copy\n",
            "  X['cluster'] = kmeanModel.labels_+1\n"
          ]
        }
      ],
      "source": [
        "# from around k=12 is where the plot looks linear\n",
        "k = 12\n",
        "X = rfm[['r_score', 'f_score', 'm_score', 'rfm_score']]     # make sure we use the same dataset\n",
        "\n",
        "###############################################################################\n",
        "# Let's evaluate our selection of 'levels' and 'cluster' assignments in the\n",
        "# prediction of MonetaryValue.\n",
        "kmeanModel = KMeans(n_clusters=k, n_init='auto', init='k-means++').fit(X)\n",
        "X['cluster'] = kmeanModel.labels_+1\n",
        "\n",
        "y = rfm.MonetaryValue\n",
        "cv = KFold(10)              # write in your thesis what 10-fold CV is about\n",
        "\n",
        "# the regression is as follows:\n",
        "print(\"X =\", X.head())\n",
        "print(\"y =\", y.head())"
      ]
    },
    {
      "cell_type": "code",
      "execution_count": null,
      "metadata": {
        "colab": {
          "base_uri": "https://localhost:8080/"
        },
        "id": "g8_ZXP0wD-uc",
        "outputId": "5a490514-f45a-438a-9068-e9e686f7483a"
      },
      "outputs": [
        {
          "output_type": "stream",
          "name": "stdout",
          "text": [
            "Linear regression: neg_median_absolute_error of -1312.2485574756925 for k= 12 and levels= 5\n",
            "GBM: neg_median_absolute_error of -98.1816030868504 for k= 12 and levels= 5\n",
            "RF: neg_median_absolute_error of -95.96193378569068 for k= 12 and levels= 5\n",
            "AdaBoost: neg_median_absolute_error of -230.34802524631726 for k= 12 and levels= 5\n",
            "ET: neg_median_absolute_error of -95.26689064856708 for k= 12 and levels= 5\n",
            "HistGBM: neg_median_absolute_error of -95.78768151981473 for k= 12 and levels= 5\n"
          ]
        }
      ],
      "source": [
        "##### Here we use R, F, and opt_clusters for the prediction of monetary value!\n",
        "\n",
        "# TODO: Create a table for each of the following three loss functions:\n",
        "#loss = 'neg_mean_absolute_error'\n",
        "#loss = 'neg_mean_squared_error'\n",
        "loss = 'neg_median_absolute_error'\n",
        "###loss = 'r2'        ## yes, it exist, but the problem is non-linear, do not use it!\n",
        "\n",
        "# Evaluate cluster assignment for the prediction of MonetaryValue using linear regression\n",
        "scores = cross_val_score(LinearRegression(), X, y, scoring=loss, cv=cv, n_jobs=-1)\n",
        "print('Linear regression:', loss, 'of', median(scores), 'for k=', k, 'and levels=', levels)\n",
        "# Sample output:\n",
        "# Linear regression: neg_median_absolute_error of -1848.0261326273076 for k= 12 and levels= 5\n",
        "\n",
        "# Evaluate cluster assignment for the prediction of MonetaryValue using GBM\n",
        "scores = cross_val_score(GradientBoostingRegressor(), X, y, scoring=loss, cv=cv, n_jobs=-1)\n",
        "print('GBM:', loss, 'of', median(scores), 'for k=', k, 'and levels=', levels)\n",
        "# Sample output:\n",
        "# GBM: neg_median_absolute_error of -1152.617297800452 for k= 12 and levels= 5\n",
        "\n",
        "# Evaluate cluster assignment for the prediction of MonetaryValue using RF\n",
        "scores = cross_val_score(RandomForestRegressor(), X, y, scoring=loss, cv=cv, n_jobs=-1)\n",
        "print('RF:', loss, 'of', median(scores), 'for k=', k, 'and levels=', levels)\n",
        "# Sample output:\n",
        "# RF: neg_median_absolute_error of -1146.209496149393 for k= 12 and levels= 5\n",
        "\n",
        "# Evaluate cluster assignment for the prediction of MonetaryValue using AdaBoost\n",
        "scores = cross_val_score(AdaBoostRegressor(), X, y, scoring=loss, cv=cv, n_jobs=-1)\n",
        "print('AdaBoost:', loss, 'of', median(scores), 'for k=', k, 'and levels=', levels)\n",
        "# Sample output:\n",
        "# AdaBoost: neg_median_absolute_error of -1175.0010133702722 for k= 12 and levels= 5\n",
        "\n",
        "# Evaluate cluster assignment for the prediction of MonetaryValue using ET\n",
        "scores = cross_val_score(ExtraTreesRegressor(), X, y, scoring=loss, cv=cv, n_jobs=-1)\n",
        "print('ET:', loss, 'of', median(scores), 'for k=', k, 'and levels=', levels)\n",
        "# Sample output:\n",
        "# ET: neg_median_absolute_error of -1161.1773418021419 for k= 12 and levels= 5\n",
        "\n",
        "# Evaluate cluster assignment for the prediction of MonetaryValue using HistGBM\n",
        "scores = cross_val_score(HistGradientBoostingRegressor(), X, y, scoring=loss, cv=cv, n_jobs=-1)\n",
        "print('HistGBM:', loss, 'of', median(scores), 'for k=', k, 'and levels=', levels)\n",
        "# Sample output:\n",
        "# HistGBM: neg_median_absolute_error of -1143.205506848357 for k= 12 and levels= 5"
      ]
    },
    {
      "cell_type": "code",
      "execution_count": null,
      "metadata": {
        "colab": {
          "base_uri": "https://localhost:8080/"
        },
        "id": "yfetiE-nD-ud",
        "outputId": "39630875-412f-4928-c0ad-8fa1d4618dc4"
      },
      "outputs": [
        {
          "output_type": "stream",
          "name": "stdout",
          "text": [
            "NN: neg_median_absolute_error of -253.07057922363282 for k= 12 and levels= 5\n"
          ]
        }
      ],
      "source": [
        "# last, but not least, one regression using a neural network.\n",
        "# here is a simple neural network: input layer, hidden layer, output layer.\n",
        "# feel free to make it wider and/or deeper (if you want to)\n",
        "def baseline_model():\n",
        "    model = Sequential()\n",
        "    model.add(Dense(128, activation='relu', input_shape=(X.shape[1],)))       # r_score, f_score, m_score, rfm_score, cluster\n",
        "    model.add(Dense(128, activation='relu'))\n",
        "    model.add(Dense(1))\n",
        "    model.compile(loss='mean_squared_error', optimizer='adam')\n",
        "    return model\n",
        "\n",
        "estimator = []\n",
        "estimator.append(('standardize', StandardScaler()))         # write it down as part of your data preparation section\n",
        "estimator.append(('mlp', KerasRegressor(model=baseline_model, epochs=50, verbose=0)))\n",
        "pipeline = Pipeline(estimator)\n",
        "\n",
        "# Evaluate cluster assignment for the prediction of MonetaryValue using HistGBM\n",
        "scores = cross_val_score(pipeline, X, y, scoring=loss, cv=cv, n_jobs=-1)\n",
        "print('NN:', loss, 'of', median(scores), 'for k=', k, 'and levels=', levels)\n",
        "# Sample output:\n",
        "# NN: neg_median_absolute_error of -1345.593287856444 for k= 12 and levels= 5\n"
      ]
    },
    {
      "cell_type": "code",
      "execution_count": null,
      "metadata": {
        "colab": {
          "base_uri": "https://localhost:8080/",
          "height": 643
        },
        "id": "xj3K40wFD-uf",
        "outputId": "1d4f3405-b416-4461-f607-d86aaead8784"
      },
      "outputs": [
        {
          "output_type": "stream",
          "name": "stdout",
          "text": [
            "Model: \"sequential\"\n",
            "_________________________________________________________________\n",
            " Layer (type)                Output Shape              Param #   \n",
            "=================================================================\n",
            " dense (Dense)               (None, 128)               768       \n",
            "                                                                 \n",
            " dense_1 (Dense)             (None, 128)               16512     \n",
            "                                                                 \n",
            " dense_2 (Dense)             (None, 1)                 129       \n",
            "                                                                 \n",
            "=================================================================\n",
            "Total params: 17409 (68.00 KB)\n",
            "Trainable params: 17409 (68.00 KB)\n",
            "Non-trainable params: 0 (0.00 Byte)\n",
            "_________________________________________________________________\n"
          ]
        },
        {
          "output_type": "execute_result",
          "data": {
            "image/png": "[encoded data removed]",
            "text/plain": [
              "<IPython.core.display.Image object>"
            ]
          },
          "metadata": {},
          "execution_count": 10
        }
      ],
      "source": [
        "# you can see the internal architecture of your neural network as follows.\n",
        "# write down the final architecture you use & include the plot\n",
        "model = baseline_model()\n",
        "model.summary()\n",
        "plot_model(model)"
      ]
    },
    {
      "cell_type": "code",
      "execution_count": null,
      "metadata": {
        "id": "tGGH0htjD-ug"
      },
      "outputs": [],
      "source": [
        "# Change the 'loss' function and write a tables showing the best outcome. For discussions write something about neg_median_absolute_error,\n",
        "# and that the best prediction comes from HistGBM, while the worst is (of course!) the linear regression. Similar discussions for each\n",
        "# loss function"
      ]
    },
    {
      "cell_type": "code",
      "source": [],
      "metadata": {
        "id": "O7s30EOjFyfs"
      },
      "execution_count": null,
      "outputs": []
    }
  ],
  "metadata": {
    "kernelspec": {
      "display_name": "Python 3",
      "language": "python",
      "name": "python3"
    },
    "language_info": {
      "codemirror_mode": {
        "name": "ipython",
        "version": 3
      },
      "file_extension": ".py",
      "mimetype": "text/x-python",
      "name": "python",
      "nbconvert_exporter": "python",
      "pygments_lexer": "ipython3",
      "version": "3.8.10"
    },
    "orig_nbformat": 4,
    "colab": {
      "provenance": []
    }
  },
  "nbformat": 4,
  "nbformat_minor": 0
}